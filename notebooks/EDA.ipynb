{
 "cells": [
  {
   "cell_type": "code",
   "execution_count": 1,
   "metadata": {},
   "outputs": [],
   "source": [
    "import pandas as pd\n",
    "from sklearn.linear_model import LogisticRegression\n",
    "from sklearn.pipeline import FeatureUnion, Pipeline\n",
    "from sklearn.feature_extraction.text import CountVectorizer, TfidfVectorizer\n",
    "from sklearn.preprocessing import OneHotEncoder\n",
    "from confusion_matrix_pretty_print import plot_confusion_matrix_from_data\n",
    "import sys, os\n",
    "sys.path.append(os.path.join(os.path.dirname(os.path.abspath('')), 'helpers'))\n",
    "from sklearn_wrappers import LogisticRegressionCustom, ItemSelector, NullCheck, plot_PR_curve, plot_roc_auc_curve\n",
    "import warnings\n",
    "warnings.filterwarnings('ignore')\n"
   ]
  },
  {
   "cell_type": "markdown",
   "metadata": {},
   "source": [
    "# Baseline Model"
   ]
  },
  {
   "cell_type": "code",
   "execution_count": 2,
   "metadata": {},
   "outputs": [
    {
     "data": {
      "text/html": [
       "<div>\n",
       "<style scoped>\n",
       "    .dataframe tbody tr th:only-of-type {\n",
       "        vertical-align: middle;\n",
       "    }\n",
       "\n",
       "    .dataframe tbody tr th {\n",
       "        vertical-align: top;\n",
       "    }\n",
       "\n",
       "    .dataframe thead th {\n",
       "        text-align: right;\n",
       "    }\n",
       "</style>\n",
       "<table border=\"1\" class=\"dataframe\">\n",
       "  <thead>\n",
       "    <tr style=\"text-align: right;\">\n",
       "      <th></th>\n",
       "      <th>WEB_TEXT</th>\n",
       "      <th>TITLE</th>\n",
       "      <th>DESCRIPTION</th>\n",
       "      <th>KEYWORDS</th>\n",
       "      <th>TARGET</th>\n",
       "    </tr>\n",
       "  </thead>\n",
       "  <tbody>\n",
       "    <tr>\n",
       "      <td>0</td>\n",
       "      <td>Search Search Made with Organic Corn Great Tas...</td>\n",
       "      <td>Home - Garden of Eatin'</td>\n",
       "      <td>NaN</td>\n",
       "      <td>NaN</td>\n",
       "      <td>restaurant</td>\n",
       "    </tr>\n",
       "    <tr>\n",
       "      <td>1</td>\n",
       "      <td>Find Your Cook Out Locations Employment Contac...</td>\n",
       "      <td>NaN</td>\n",
       "      <td>NaN</td>\n",
       "      <td>NaN</td>\n",
       "      <td>restaurant</td>\n",
       "    </tr>\n",
       "    <tr>\n",
       "      <td>2</td>\n",
       "      <td>1/8 Go 4 Food is a Michelin Award winning, NBC...</td>\n",
       "      <td>Home 首頁 | go4food</td>\n",
       "      <td>NaN</td>\n",
       "      <td>NaN</td>\n",
       "      <td>restaurant</td>\n",
       "    </tr>\n",
       "    <tr>\n",
       "      <td>3</td>\n",
       "      <td>NaN</td>\n",
       "      <td>NaN</td>\n",
       "      <td>Welcome to Flow Restaurant &amp; Lounge: A Mendoci...</td>\n",
       "      <td>flow, restaurant, mendocino, mendo, california...</td>\n",
       "      <td>restaurant</td>\n",
       "    </tr>\n",
       "    <tr>\n",
       "      <td>4</td>\n",
       "      <td>NaN</td>\n",
       "      <td>Marathon Brand - Home | Gas Stations &amp; Other B...</td>\n",
       "      <td>Welcome to Marathon Petroleum's Brand site. He...</td>\n",
       "      <td>NaN</td>\n",
       "      <td>restaurant</td>\n",
       "    </tr>\n",
       "  </tbody>\n",
       "</table>\n",
       "</div>"
      ],
      "text/plain": [
       "                                            WEB_TEXT  \\\n",
       "0  Search Search Made with Organic Corn Great Tas...   \n",
       "1  Find Your Cook Out Locations Employment Contac...   \n",
       "2  1/8 Go 4 Food is a Michelin Award winning, NBC...   \n",
       "3                                                NaN   \n",
       "4                                                NaN   \n",
       "\n",
       "                                               TITLE  \\\n",
       "0                            Home - Garden of Eatin'   \n",
       "1                                                NaN   \n",
       "2                                  Home 首頁 | go4food   \n",
       "3                                                NaN   \n",
       "4  Marathon Brand - Home | Gas Stations & Other B...   \n",
       "\n",
       "                                         DESCRIPTION  \\\n",
       "0                                                NaN   \n",
       "1                                                NaN   \n",
       "2                                                NaN   \n",
       "3  Welcome to Flow Restaurant & Lounge: A Mendoci...   \n",
       "4  Welcome to Marathon Petroleum's Brand site. He...   \n",
       "\n",
       "                                            KEYWORDS      TARGET  \n",
       "0                                                NaN  restaurant  \n",
       "1                                                NaN  restaurant  \n",
       "2                                                NaN  restaurant  \n",
       "3  flow, restaurant, mendocino, mendo, california...  restaurant  \n",
       "4                                                NaN  restaurant  "
      ]
     },
     "execution_count": 2,
     "metadata": {},
     "output_type": "execute_result"
    }
   ],
   "source": [
    "df = pd.read_csv(r'data/web_dataset.csv')\n",
    "df.head()\n"
   ]
  },
  {
   "cell_type": "code",
   "execution_count": 3,
   "metadata": {},
   "outputs": [
    {
     "data": {
      "text/html": [
       "<div>\n",
       "<style scoped>\n",
       "    .dataframe tbody tr th:only-of-type {\n",
       "        vertical-align: middle;\n",
       "    }\n",
       "\n",
       "    .dataframe tbody tr th {\n",
       "        vertical-align: top;\n",
       "    }\n",
       "\n",
       "    .dataframe thead th {\n",
       "        text-align: right;\n",
       "    }\n",
       "</style>\n",
       "<table border=\"1\" class=\"dataframe\">\n",
       "  <thead>\n",
       "    <tr style=\"text-align: right;\">\n",
       "      <th></th>\n",
       "      <th>WEB_TEXT</th>\n",
       "      <th>TITLE</th>\n",
       "      <th>DESCRIPTION</th>\n",
       "      <th>KEYWORDS</th>\n",
       "      <th>TARGET</th>\n",
       "    </tr>\n",
       "  </thead>\n",
       "  <tbody>\n",
       "    <tr>\n",
       "      <td>1</td>\n",
       "      <td>Find Your Cook Out Locations Employment Contac...</td>\n",
       "      <td>NaN</td>\n",
       "      <td>NaN</td>\n",
       "      <td>NaN</td>\n",
       "      <td>restaurant</td>\n",
       "    </tr>\n",
       "    <tr>\n",
       "      <td>9</td>\n",
       "      <td>As a family owned and operated business Harbor...</td>\n",
       "      <td>NaN</td>\n",
       "      <td>NaN</td>\n",
       "      <td>NaN</td>\n",
       "      <td>restaurant</td>\n",
       "    </tr>\n",
       "    <tr>\n",
       "      <td>13</td>\n",
       "      <td>Cleggan, Clifden, Connemara, Co. Galway, Irela...</td>\n",
       "      <td>NaN</td>\n",
       "      <td>NaN</td>\n",
       "      <td>NaN</td>\n",
       "      <td>accommodation</td>\n",
       "    </tr>\n",
       "    <tr>\n",
       "      <td>14</td>\n",
       "      <td>Book Online Arrival Date: Nights: Best rate gu...</td>\n",
       "      <td>NaN</td>\n",
       "      <td>NaN</td>\n",
       "      <td>NaN</td>\n",
       "      <td>accommodation</td>\n",
       "    </tr>\n",
       "    <tr>\n",
       "      <td>16</td>\n",
       "      <td>541-423-8888 Select Page Bobbio's Pizza Strong...</td>\n",
       "      <td>NaN</td>\n",
       "      <td>NaN</td>\n",
       "      <td>NaN</td>\n",
       "      <td>restaurant</td>\n",
       "    </tr>\n",
       "    <tr>\n",
       "      <td>...</td>\n",
       "      <td>...</td>\n",
       "      <td>...</td>\n",
       "      <td>...</td>\n",
       "      <td>...</td>\n",
       "      <td>...</td>\n",
       "    </tr>\n",
       "    <tr>\n",
       "      <td>3365</td>\n",
       "      <td>Domain is for sale</td>\n",
       "      <td>NaN</td>\n",
       "      <td>NaN</td>\n",
       "      <td>NaN</td>\n",
       "      <td>restaurant</td>\n",
       "    </tr>\n",
       "    <tr>\n",
       "      <td>3366</td>\n",
       "      <td>Domain is for sale</td>\n",
       "      <td>NaN</td>\n",
       "      <td>NaN</td>\n",
       "      <td>NaN</td>\n",
       "      <td>restaurant</td>\n",
       "    </tr>\n",
       "    <tr>\n",
       "      <td>3367</td>\n",
       "      <td>Domain is for sale</td>\n",
       "      <td>NaN</td>\n",
       "      <td>NaN</td>\n",
       "      <td>NaN</td>\n",
       "      <td>restaurant</td>\n",
       "    </tr>\n",
       "    <tr>\n",
       "      <td>3368</td>\n",
       "      <td>Domain is for sale</td>\n",
       "      <td>NaN</td>\n",
       "      <td>NaN</td>\n",
       "      <td>NaN</td>\n",
       "      <td>restaurant</td>\n",
       "    </tr>\n",
       "    <tr>\n",
       "      <td>3369</td>\n",
       "      <td>Domain is for sale</td>\n",
       "      <td>NaN</td>\n",
       "      <td>NaN</td>\n",
       "      <td>NaN</td>\n",
       "      <td>restaurant</td>\n",
       "    </tr>\n",
       "  </tbody>\n",
       "</table>\n",
       "<p>1041 rows × 5 columns</p>\n",
       "</div>"
      ],
      "text/plain": [
       "                                               WEB_TEXT TITLE DESCRIPTION  \\\n",
       "1     Find Your Cook Out Locations Employment Contac...   NaN         NaN   \n",
       "9     As a family owned and operated business Harbor...   NaN         NaN   \n",
       "13    Cleggan, Clifden, Connemara, Co. Galway, Irela...   NaN         NaN   \n",
       "14    Book Online Arrival Date: Nights: Best rate gu...   NaN         NaN   \n",
       "16    541-423-8888 Select Page Bobbio's Pizza Strong...   NaN         NaN   \n",
       "...                                                 ...   ...         ...   \n",
       "3365                                 Domain is for sale   NaN         NaN   \n",
       "3366                                 Domain is for sale   NaN         NaN   \n",
       "3367                                 Domain is for sale   NaN         NaN   \n",
       "3368                                 Domain is for sale   NaN         NaN   \n",
       "3369                                 Domain is for sale   NaN         NaN   \n",
       "\n",
       "     KEYWORDS         TARGET  \n",
       "1         NaN     restaurant  \n",
       "9         NaN     restaurant  \n",
       "13        NaN  accommodation  \n",
       "14        NaN  accommodation  \n",
       "16        NaN     restaurant  \n",
       "...       ...            ...  \n",
       "3365      NaN     restaurant  \n",
       "3366      NaN     restaurant  \n",
       "3367      NaN     restaurant  \n",
       "3368      NaN     restaurant  \n",
       "3369      NaN     restaurant  \n",
       "\n",
       "[1041 rows x 5 columns]"
      ]
     },
     "execution_count": 3,
     "metadata": {},
     "output_type": "execute_result"
    }
   ],
   "source": [
    "df[df['TITLE'].isnull() & df['KEYWORDS'].isnull() & df['DESCRIPTION'].isnull()]\n"
   ]
  },
  {
   "cell_type": "code",
   "execution_count": 4,
   "metadata": {},
   "outputs": [],
   "source": [
    "df = df[df['WEB_TEXT'] != 'Domain is for sale'].reset_index(drop=True)\n"
   ]
  },
  {
   "cell_type": "code",
   "execution_count": 5,
   "metadata": {},
   "outputs": [
    {
     "data": {
      "text/plain": [
       "count    970.000000\n",
       "mean       1.031959\n",
       "std        0.932173\n",
       "min        1.000000\n",
       "25%        1.000000\n",
       "50%        1.000000\n",
       "75%        1.000000\n",
       "max       30.000000\n",
       "Name: WEB_TEXT, dtype: float64"
      ]
     },
     "execution_count": 5,
     "metadata": {},
     "output_type": "execute_result"
    }
   ],
   "source": [
    "df[df['TITLE'].isnull() & df['KEYWORDS'].isnull() & df['DESCRIPTION'].isnull()\n",
    "   ]['WEB_TEXT'].value_counts().describe()\n"
   ]
  },
  {
   "cell_type": "code",
   "execution_count": 6,
   "metadata": {},
   "outputs": [
    {
     "data": {
      "text/plain": [
       "restaurant       3018\n",
       "accommodation     298\n",
       "NaN                30\n",
       "retsaurant          2\n",
       "acommodation        2\n",
       "Name: TARGET, dtype: int64"
      ]
     },
     "execution_count": 6,
     "metadata": {},
     "output_type": "execute_result"
    }
   ],
   "source": [
    "df['TARGET'].value_counts(dropna=False)\n"
   ]
  },
  {
   "cell_type": "code",
   "execution_count": 7,
   "metadata": {},
   "outputs": [
    {
     "data": {
      "text/plain": [
       "3350"
      ]
     },
     "execution_count": 7,
     "metadata": {},
     "output_type": "execute_result"
    }
   ],
   "source": [
    "df.shape[0]\n"
   ]
  },
  {
   "cell_type": "code",
   "execution_count": 8,
   "metadata": {},
   "outputs": [],
   "source": [
    "df['TARGET'] = df['TARGET'].map({'restaurant': 'restaurant',\n",
    "                                 'retsaurant': 'restaurant',\n",
    "                                 'accommodation': 'accommodation',\n",
    "                                 'acommodation': 'accommodation',\n",
    "                                 })\n",
    "\n",
    "df = df[df.TARGET.notnull()].reset_index(drop=True)\n"
   ]
  },
  {
   "cell_type": "code",
   "execution_count": 9,
   "metadata": {},
   "outputs": [
    {
     "data": {
      "text/plain": [
       "3320"
      ]
     },
     "execution_count": 9,
     "metadata": {},
     "output_type": "execute_result"
    }
   ],
   "source": [
    "df.shape[0]\n"
   ]
  },
  {
   "cell_type": "code",
   "execution_count": 10,
   "metadata": {},
   "outputs": [],
   "source": [
    "columns = ['WEB_TEXT', 'TITLE', 'DESCRIPTION', 'KEYWORDS']\n"
   ]
  },
  {
   "cell_type": "code",
   "execution_count": 11,
   "metadata": {},
   "outputs": [],
   "source": [
    "df['BINARY_TARGET'] = (df['TARGET'] != 'restaurant')*1\n"
   ]
  },
  {
   "cell_type": "code",
   "execution_count": 12,
   "metadata": {},
   "outputs": [
    {
     "data": {
      "text/plain": [
       "0.09036144578313253"
      ]
     },
     "execution_count": 12,
     "metadata": {},
     "output_type": "execute_result"
    }
   ],
   "source": [
    "df['BINARY_TARGET'].mean()\n"
   ]
  },
  {
   "cell_type": "code",
   "execution_count": 13,
   "metadata": {},
   "outputs": [
    {
     "name": "stdout",
     "output_type": "stream",
     "text": [
      "Max sentence length for column: WEB_TEXT\n",
      "1413.0\n",
      "Max sentence length for column: TITLE\n",
      "168.0\n",
      "Max sentence length for column: DESCRIPTION\n",
      "1791.0\n",
      "Max sentence length for column: KEYWORDS\n",
      "9629.0\n"
     ]
    }
   ],
   "source": [
    "for column in columns:\n",
    "    print(f'Max sentence length for column: {column}')\n",
    "    print(df[column].str.len().max())\n"
   ]
  },
  {
   "cell_type": "code",
   "execution_count": 14,
   "metadata": {},
   "outputs": [
    {
     "name": "stdout",
     "output_type": "stream",
     "text": [
      "Train AUC: 0.94, Test AUC: 0.924\n",
      "Train AUC: 0.95, Test AUC: 0.862\n",
      "Train AUC: 0.939, Test AUC: 0.954\n",
      "Train AUC: 0.945, Test AUC: 0.917\n",
      "Train AUC: 0.943, Test AUC: 0.921\n",
      "Out of Fold AUC on full test data: 0.914\n"
     ]
    },
    {
     "data": {
      "text/plain": [
       "Pipeline(memory=None,\n",
       "         steps=[('union',\n",
       "                 FeatureUnion(n_jobs=None,\n",
       "                              transformer_list=[('KEYWORDS',\n",
       "                                                 Pipeline(memory=None,\n",
       "                                                          steps=[('selector',\n",
       "                                                                  ItemSelector(key='KEYWORDS')),\n",
       "                                                                 ('tdidf',\n",
       "                                                                  TfidfVectorizer(analyzer='word',\n",
       "                                                                                  binary=False,\n",
       "                                                                                  decode_error='strict',\n",
       "                                                                                  dtype=<class 'numpy.float64'>,\n",
       "                                                                                  encoding='utf-8',\n",
       "                                                                                  input='content',\n",
       "                                                                                  lowercase=True,\n",
       "                                                                                  max_df=1.0,\n",
       "                                                                                  max_features=100,\n",
       "                                                                                  min_df=...\n",
       "                                                                                categories=None,\n",
       "                                                                                drop=None,\n",
       "                                                                                dtype=<class 'numpy.float64'>,\n",
       "                                                                                handle_unknown='ignore',\n",
       "                                                                                n_values=None,\n",
       "                                                                                sparse=True))],\n",
       "                                                          verbose=False))],\n",
       "                              transformer_weights={'DESCRIPTION': 0.5,\n",
       "                                                   'KEYWORDS': 0.9,\n",
       "                                                   'KEYWORDS_NULL': 0.1,\n",
       "                                                   'TITLE': 0.5,\n",
       "                                                   'TITLE_NULL': 0.1,\n",
       "                                                   'WEB_TEXT': 0.5},\n",
       "                              verbose=False)),\n",
       "                ('logreg',\n",
       "                 <sklearn_wrappers.LogisticRegressionCustom object at 0x7fad09e18990>)],\n",
       "         verbose=False)"
      ]
     },
     "execution_count": 14,
     "metadata": {},
     "output_type": "execute_result"
    }
   ],
   "source": [
    "model = Pipeline([\n",
    "    ('union', FeatureUnion(\n",
    "        transformer_list=[\n",
    "\n",
    "            # Pipeline for pulling features\n",
    "                ('KEYWORDS', Pipeline([\n",
    "                    ('selector', ItemSelector(key='KEYWORDS')),\n",
    "                    ('tdidf', TfidfVectorizer(\n",
    "                        ngram_range=(1, 3),\n",
    "                        max_features=100\n",
    "                    ),\n",
    "                    )\n",
    "                ])),\n",
    "            ('WEB_TEXT', Pipeline([\n",
    "                ('selector', ItemSelector(key='WEB_TEXT')),\n",
    "                ('tdidf', TfidfVectorizer(\n",
    "                    ngram_range=(1, 3),\n",
    "                    max_features=100\n",
    "                ),\n",
    "                )\n",
    "            ])),\n",
    "            ('TITLE', Pipeline([\n",
    "                ('selector', ItemSelector(key='TITLE')),\n",
    "                ('count', CountVectorizer(\n",
    "                    ngram_range=(1, 2),\n",
    "                    max_features=50)\n",
    "                 )\n",
    "            ])),\n",
    "\n",
    "\n",
    "            ('DESCRIPTION', Pipeline([\n",
    "                ('selector', ItemSelector(key='DESCRIPTION')),\n",
    "                ('count', CountVectorizer(\n",
    "                    token_pattern='.+',\n",
    "                    max_features=50)\n",
    "                 )\n",
    "            ])),\n",
    "\n",
    "            ('TITLE_NULL', Pipeline([\n",
    "                ('selector', NullCheck(key='TITLE')),\n",
    "                ('ohe', OneHotEncoder(handle_unknown='ignore'))\n",
    "            ])),\n",
    "\n",
    "            ('KEYWORDS_NULL', Pipeline([\n",
    "                ('selector', NullCheck(key='KEYWORDS')),\n",
    "                ('ohe', OneHotEncoder(handle_unknown='ignore'))\n",
    "            ])),\n",
    "        ],\n",
    "\n",
    "        # weight components in FeatureUnion\n",
    "        transformer_weights={\n",
    "            'KEYWORDS': .9,\n",
    "            'TITLE': .5,\n",
    "            'WEB_TEXT': .5,\n",
    "            'DESCRIPTION': .5,\n",
    "            'TITLE_NULL': .1,\n",
    "            'KEYWORDS_NULL': .1,\n",
    "        },\n",
    "    )),\n",
    "    ('logreg', LogisticRegressionCustom(LogisticRegression))])\n",
    "\n",
    "model.fit(df[columns], df.BINARY_TARGET)\n"
   ]
  },
  {
   "cell_type": "code",
   "execution_count": 15,
   "metadata": {},
   "outputs": [],
   "source": [
    "# from joblib import dump, load\n",
    "# dump(model, '../model/baseline_model.joblib')"
   ]
  },
  {
   "cell_type": "markdown",
   "metadata": {},
   "source": [
    "# Define best threshold"
   ]
  },
  {
   "cell_type": "code",
   "execution_count": 16,
   "metadata": {},
   "outputs": [
    {
     "name": "stdout",
     "output_type": "stream",
     "text": [
      "Average precision-recall score: 0.72\n"
     ]
    },
    {
     "data": {
      "image/png": "[encoded data removed]",
      "text/plain": [
       "<Figure size 720x720 with 1 Axes>"
      ]
     },
     "metadata": {
      "needs_background": "light"
     },
     "output_type": "display_data"
    }
   ],
   "source": [
    "plot_PR_curve(model['logreg'].labels, model['logreg'].oof_predictions)\n"
   ]
  },
  {
   "cell_type": "code",
   "execution_count": 17,
   "metadata": {},
   "outputs": [
    {
     "data": {
      "image/png": "[encoded data removed]",
      "text/plain": [
       "<Figure size 432x288 with 1 Axes>"
      ]
     },
     "metadata": {
      "needs_background": "light"
     },
     "output_type": "display_data"
    }
   ],
   "source": [
    "plot_roc_auc_curve(model['logreg'].labels, model['logreg'].oof_predictions)\n"
   ]
  },
  {
   "cell_type": "code",
   "execution_count": 18,
   "metadata": {},
   "outputs": [
    {
     "data": {
      "image/png": "[encoded data removed]",
      "text/plain": [
       "<Figure size 648x648 with 1 Axes>"
      ]
     },
     "metadata": {
      "needs_background": "light"
     },
     "output_type": "display_data"
    }
   ],
   "source": [
    "plot_confusion_matrix_from_data(model['logreg'].labels, (model['logreg'].oof_predictions >= model['logreg'].predict_threshold_)*1)"
   ]
  },
  {
   "cell_type": "markdown",
   "metadata": {},
   "source": [
    "# Simple Feature Engineering"
   ]
  },
  {
   "cell_type": "code",
   "execution_count": 19,
   "metadata": {},
   "outputs": [],
   "source": [
    "def check_null_categories(column_name):\n",
    "    df[f'{column_name}_NULL'] = df[f'{column_name}'].isnull()*1\n",
    "    return df.groupby(f'{column_name}_NULL')['BINARY_TARGET'].mean()\n"
   ]
  },
  {
   "cell_type": "code",
   "execution_count": 20,
   "metadata": {},
   "outputs": [
    {
     "data": {
      "text/plain": [
       "WEB_TEXT_NULL\n",
       "0    0.083732\n",
       "1    0.094385\n",
       "Name: BINARY_TARGET, dtype: float64"
      ]
     },
     "execution_count": 20,
     "metadata": {},
     "output_type": "execute_result"
    }
   ],
   "source": [
    "check_null_categories('WEB_TEXT')\n"
   ]
  },
  {
   "cell_type": "code",
   "execution_count": 21,
   "metadata": {},
   "outputs": [
    {
     "data": {
      "text/plain": [
       "TITLE_NULL\n",
       "0    0.056916\n",
       "1    0.118297\n",
       "Name: BINARY_TARGET, dtype: float64"
      ]
     },
     "execution_count": 21,
     "metadata": {},
     "output_type": "execute_result"
    }
   ],
   "source": [
    "check_null_categories('TITLE')\n"
   ]
  },
  {
   "cell_type": "code",
   "execution_count": 22,
   "metadata": {},
   "outputs": [
    {
     "data": {
      "text/plain": [
       "DESCRIPTION_NULL\n",
       "0    0.096465\n",
       "1    0.081343\n",
       "Name: BINARY_TARGET, dtype: float64"
      ]
     },
     "execution_count": 22,
     "metadata": {},
     "output_type": "execute_result"
    }
   ],
   "source": [
    "check_null_categories('DESCRIPTION')\n"
   ]
  },
  {
   "cell_type": "code",
   "execution_count": 23,
   "metadata": {},
   "outputs": [
    {
     "data": {
      "text/plain": [
       "KEYWORDS_NULL\n",
       "0    0.126021\n",
       "1    0.077954\n",
       "Name: BINARY_TARGET, dtype: float64"
      ]
     },
     "execution_count": 23,
     "metadata": {},
     "output_type": "execute_result"
    }
   ],
   "source": [
    "check_null_categories('KEYWORDS')\n"
   ]
  }
 ],
 "metadata": {
  "interpreter": {
   "hash": "40d3a090f54c6569ab1632332b64b2c03c39dcf918b08424e98f38b5ae0af88f"
  },
  "kernelspec": {
   "display_name": "Python 3.7.4 64-bit ('base': conda)",
   "name": "python3"
  },
  "language_info": {
   "codemirror_mode": {
    "name": "ipython",
    "version": 3
   },
   "file_extension": ".py",
   "mimetype": "text/x-python",
   "name": "python",
   "nbconvert_exporter": "python",
   "pygments_lexer": "ipython3",
   "version": "3.7.4"
  },
  "orig_nbformat": 4
 },
 "nbformat": 4,
 "nbformat_minor": 2
}
